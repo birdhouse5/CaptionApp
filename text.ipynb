{
 "cells": [
  {
   "cell_type": "code",
   "execution_count": 5,
   "id": "bd45140e",
   "metadata": {},
   "outputs": [
    {
     "name": "stderr",
     "output_type": "stream",
     "text": [
      "c:\\Users\\Jan\\Documents\\Arbeit\\Dani\\CaptionApp\\.venv\\lib\\site-packages\\huggingface_hub\\file_download.py:144: UserWarning: `huggingface_hub` cache-system uses symlinks by default to efficiently store duplicated files but your machine does not support them in C:\\Users\\Jan\\.cache\\huggingface\\hub\\models--vennify--t5-base-grammar-correction. Caching files will still work but in a degraded version that might require more space on your disk. This warning can be disabled by setting the `HF_HUB_DISABLE_SYMLINKS_WARNING` environment variable. For more details, see https://huggingface.co/docs/huggingface_hub/how-to-cache#limitations.\n",
      "To support symlinks on Windows, you either need to activate Developer Mode or to run Python as an administrator. In order to activate developer mode, see this article: https://docs.microsoft.com/en-us/windows/apps/get-started/enable-your-device-for-development\n",
      "  warnings.warn(message)\n",
      "Device set to use cpu\n"
     ]
    },
    {
     "name": "stdout",
     "output_type": "stream",
     "text": [
      "Corrected: One of the biggest challenges that artists face is their lack of income or income.\n"
     ]
    }
   ],
   "source": [
    "from transformers import AutoModelForSeq2SeqLM, AutoTokenizer, pipeline\n",
    "\n",
    "model_name = \"vennify/t5-base-grammar-correction\"\n",
    "tokenizer = AutoTokenizer.from_pretrained(model_name)\n",
    "model = AutoModelForSeq2SeqLM.from_pretrained(model_name)\n",
    "\n",
    "corrector = pipeline(\"text2text-generation\", model=model, tokenizer=tokenizer)\n",
    "\n",
    "input_text = \"one if the biggest challenges that artist face is their lack or income\"\n",
    "corrected = corrector(input_text, max_length=128)[0]['generated_text']\n",
    "\n",
    "print(\"Corrected:\", corrected)\n"
   ]
  },
  {
   "cell_type": "code",
   "execution_count": 4,
   "id": "16b81d07",
   "metadata": {},
   "outputs": [
    {
     "name": "stdout",
     "output_type": "stream",
     "text": [
      "Corrected: One of the biggest challenges that artists face is their lack of income.\n"
     ]
    }
   ],
   "source": [
    "input_text = \"one if the biggest challenges that artist face is their lack or income\"\n",
    "corrected = corrector(input_text, max_length=128)[0]['generated_text']\n",
    "\n",
    "print(\"Corrected:\", corrected)"
   ]
  },
  {
   "cell_type": "code",
   "execution_count": null,
   "id": "b7806afd",
   "metadata": {},
   "outputs": [],
   "source": []
  }
 ],
 "metadata": {
  "kernelspec": {
   "display_name": ".venv",
   "language": "python",
   "name": "python3"
  },
  "language_info": {
   "codemirror_mode": {
    "name": "ipython",
    "version": 3
   },
   "file_extension": ".py",
   "mimetype": "text/x-python",
   "name": "python",
   "nbconvert_exporter": "python",
   "pygments_lexer": "ipython3",
   "version": "3.10.4"
  }
 },
 "nbformat": 4,
 "nbformat_minor": 5
}
